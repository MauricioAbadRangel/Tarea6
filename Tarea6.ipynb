{
  "nbformat": 4,
  "nbformat_minor": 0,
  "metadata": {
    "colab": {
      "name": "Tarea6.ipynb",
      "provenance": [],
      "authorship_tag": "ABX9TyNm+Ty1j7ckfk+ksJZfOUCa",
      "include_colab_link": true
    },
    "kernelspec": {
      "name": "python3",
      "display_name": "Python 3"
    },
    "language_info": {
      "name": "python"
    }
  },
  "cells": [
    {
      "cell_type": "markdown",
      "metadata": {
        "id": "view-in-github",
        "colab_type": "text"
      },
      "source": [
        "<a href=\"https://colab.research.google.com/github/MauricioAbadRangel/Tarea6/blob/main/Tarea6.ipynb\" target=\"_parent\"><img src=\"https://colab.research.google.com/assets/colab-badge.svg\" alt=\"Open In Colab\"/></a>"
      ]
    },
    {
      "cell_type": "code",
      "metadata": {
        "colab": {
          "base_uri": "https://localhost:8080/"
        },
        "id": "RJivGGE0ZNva",
        "outputId": "e4ed130b-a970-4bfa-ee58-182dc1ccee1b"
      },
      "source": [
        "# Problema 2.1\n",
        "N = float(input(\"Numero de sonidos emitidos en un minuto \"))\n",
        "if N > 0:\n",
        "    T = N/4 + 40\n",
        "    print(\"Temperatura es:\")\n",
        "    print(T)\n",
        "print(\"Fin\")"
      ],
      "execution_count": null,
      "outputs": [
        {
          "output_type": "stream",
          "name": "stdout",
          "text": [
            "Numero de sonidos emitidos en un minuto 8\n",
            "Temperatura es:\n",
            "42.0\n",
            "Fin\n"
          ]
        }
      ]
    },
    {
      "cell_type": "code",
      "metadata": {
        "colab": {
          "base_uri": "https://localhost:8080/"
        },
        "id": "c5qKa1hlhLL6",
        "outputId": "ee8807e5-e54d-490d-f40d-231abc6a333f"
      },
      "source": [
        "#2.2\n",
        "P = float(input(\"Valor de P \"))\n",
        "Q = float(input(\"Valor de Q \"))\n",
        "EXP = P**3+Q**4-2*P**2\n",
        "if EXP<680:\n",
        "    print(\"Valor de P\")\n",
        "    print(P)\n",
        "    print(\"Valor de Q\")\n",
        "    print(Q)\n",
        "print(\"FIN\")"
      ],
      "execution_count": null,
      "outputs": [
        {
          "output_type": "stream",
          "name": "stdout",
          "text": [
            "Valor de P 2\n",
            "Valor de Q 4\n",
            "Valor de P\n",
            "2.0\n",
            "Valor de Q\n",
            "4.0\n",
            "FIN\n"
          ]
        }
      ]
    },
    {
      "cell_type": "code",
      "metadata": {
        "id": "evZCZ7fdmdid"
      },
      "source": [
        "#Problema 2.3\n",
        "A = float(input(\"Valor de A \"))\n",
        "B = float(input(\"Valor de B \"))\n",
        "C = float(input(\"Valor de C \"))\n",
        "DIS = B**2-4*A*C\n",
        "if DIS>=0:\n",
        "    X1=((-B)+DIS**0.5)/2*A\n",
        "    X2=((-B)-DIS**0.5)/2*A\n",
        "    print(\"Raices reales:\")\n",
        "    print(X1)\n",
        "    print(X2)\n"
      ],
      "execution_count": null,
      "outputs": []
    },
    {
      "cell_type": "code",
      "metadata": {
        "colab": {
          "base_uri": "https://localhost:8080/"
        },
        "id": "YBK74esbzmaI",
        "outputId": "c3423410-5f5a-4588-eede-8301dd8b6a82"
      },
      "source": [
        "#2.4\n",
        "MAT = float(input(\"Matricula del alumno \"))\n",
        "CAL1 = float(input(\"Calificacion 1 \"))\n",
        "CAL2 = float(input(\"Calificacion 2 \"))\n",
        "CAL3 = float(input(\"Calificacion 3 \"))\n",
        "CAL4 = float(input(\"Calificacion 4 \"))\n",
        "CAL5 = float(input(\"Calificacion 5 \"))\n",
        "PRO = (CAL1 + CAL2 +CAL3 +CAL4 +CAL5)/5\n",
        "print(MAT)\n",
        "print(PRO)\n",
        "if PRO>=6:\n",
        "    print(\"Aprobado\")\n",
        "elif PRO<6:\n",
        "        print(\"No aprobado\")\n"
      ],
      "execution_count": null,
      "outputs": [
        {
          "output_type": "stream",
          "name": "stdout",
          "text": [
            "Matricula del alumno 3190\n",
            "Calificacion 1 9\n",
            "Calificacion 2 9\n",
            "Calificacion 3 9\n",
            "Calificacion 4 9\n",
            "Calificacion 5 9\n",
            "3190.0\n",
            "9.0\n",
            "Aprobado\n"
          ]
        }
      ]
    },
    {
      "cell_type": "code",
      "metadata": {
        "id": "kZjoE1BN188r",
        "colab": {
          "base_uri": "https://localhost:8080/"
        },
        "outputId": "adc46610-0d83-412b-c37b-477cb128af7a"
      },
      "source": [
        "#2.5\n",
        "NUM = float(input(\"Introduce el numero \"))\n",
        "if NUM>0:\n",
        "    print(\"Positivo\")\n",
        "elif NUM == 0:\n",
        "    print(\"NULO\")\n",
        "elif NUM<0:\n",
        "    print(\"Negativo\")"
      ],
      "execution_count": 4,
      "outputs": [
        {
          "output_type": "stream",
          "name": "stdout",
          "text": [
            "Introduce el numero 0\n",
            "NULO\n"
          ]
        }
      ]
    },
    {
      "cell_type": "code",
      "metadata": {
        "colab": {
          "base_uri": "https://localhost:8080/"
        },
        "id": "c8Jh0SvS40Pu",
        "outputId": "2a669f84-cb68-43fc-e7d4-3c6643bf4392"
      },
      "source": [
        "#2.7\n",
        "A = float(input(\"Introduce el numero A \"))\n",
        "B = float(input(\"Introduce el numero B \"))\n",
        "C = float(input(\"Introduce el numero c \"))\n",
        "if A<B and B<C:\n",
        "    print(\"Los numeros estan en orden creciente\")\n",
        "else:\n",
        "    print(\"Los numeros no estan en orden creciente\")"
      ],
      "execution_count": 33,
      "outputs": [
        {
          "output_type": "stream",
          "name": "stdout",
          "text": [
            "Introduce el numero A 3\n",
            "Introduce el numero B 1\n",
            "Introduce el numero c 2\n",
            "Los numeros no estan en orden creciente\n"
          ]
        }
      ]
    },
    {
      "cell_type": "code",
      "metadata": {
        "id": "CzJqguETDt-9"
      },
      "source": [
        ""
      ],
      "execution_count": null,
      "outputs": []
    }
  ]
}